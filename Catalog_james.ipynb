{
 "cells": [
  {
   "cell_type": "code",
   "execution_count": 1,
   "metadata": {},
   "outputs": [],
   "source": [
    "import numpy as np"
   ]
  },
  {
   "cell_type": "code",
   "execution_count": 2,
   "metadata": {},
   "outputs": [],
   "source": [
    "class Catalog:\n",
    "    def lst(self,time=(month,hrs,normal_year)):\n",
    "        '''\n",
    "        parameters\n",
    "        ----------\n",
    "        param time: month(string)- first three letters in lower cases\n",
    "                    normal_year(bool)- check if the given year is nomal year or leap year\n",
    "        param day: the date in a month- e.g. August 18th -> 18\n",
    "\n",
    "        return\n",
    "        ----------\n",
    "        LST [hour angle]        \n",
    "        '''\n",
    "        #t_month: days to beginning of month\n",
    "        t_month = {'jan':0,'feb':31,'mar':59,'apr':90,\n",
    "                   'may':120,'jun':151,'jul':181,\n",
    "                   'aug':212,'sep':243,'oct':273,'nov':304,'dec':334}\n",
    "        \n",
    "        #t_year: days since J2000 to beginning of each year (from 1998 to 2021)\n",
    "        t_year = [-731.5,-366.5,-1.5,364.5,729.5,1094.5,1459.5,1825.5,\n",
    "                2190.5,2555.5,2920.5,3286.5,3651.5,4016.5,4381.5,\n",
    "               4747.5,5112.5,5477.5,5842.5,6208.5,6573.5,6938.5,\n",
    "               7303.5,7669.5]\n",
    "        if not normal_year:\n",
    "            month[2:] += 1\n",
    "        \n",
    "        1/60+\n",
    "        \n",
    "        return lst\n",
    "        \n",
    "        \n",
    "    \n",
    "    def altaz(self,ra,dec,time=(month,normal_year),location=(lat,long)):\n",
    "        '''\n",
    "        parameters\n",
    "        ----------\n",
    "        param ra: right ascension of the observed object [rad]\n",
    "        \n",
    "        param dec: declination of the observed object [rad]\n",
    "        \n",
    "        param time: LST of the obser\n",
    "        \n",
    "        param location: latitude and longitude [degrees]\n",
    "        \n",
    "        return\n",
    "        ----------\n",
    "        (altitude,azimuth)\n",
    "        \n",
    "        '''\n",
    "        #Get LST\n",
    "        lst = 100.46 + 0.985647 + d +long + 15 * UT\n",
    "        #Convert the local sidereal time to the hour angle:\n",
    "        \n",
    "        \n",
    "    \n",
    "    def flux():\n",
    "        pass\n",
    "    \n",
    "    def phase():\n",
    "        pass"
   ]
  },
  {
   "cell_type": "code",
   "execution_count": null,
   "metadata": {},
   "outputs": [],
   "source": [
    "class Ant():\n",
    "    def beam():\n",
    "        pass\n",
    "    \n",
    "    def phase():\n",
    "        pass"
   ]
  }
 ],
 "metadata": {
  "kernelspec": {
   "display_name": "Python 3",
   "language": "python",
   "name": "python3"
  },
  "language_info": {
   "codemirror_mode": {
    "name": "ipython",
    "version": 3
   },
   "file_extension": ".py",
   "mimetype": "text/x-python",
   "name": "python",
   "nbconvert_exporter": "python",
   "pygments_lexer": "ipython3",
   "version": "3.7.4"
  }
 },
 "nbformat": 4,
 "nbformat_minor": 4
}
