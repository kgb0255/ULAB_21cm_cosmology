{
 "cells": [
  {
   "cell_type": "code",
   "execution_count": 1,
   "metadata": {},
   "outputs": [],
   "source": [
    "import numpy as np"
   ]
  },
  {
   "cell_type": "code",
   "execution_count": 2,
   "metadata": {},
   "outputs": [],
   "source": [
    "class Catalog:\n",
    "    def __init__(self):\n",
    "    \n",
    "    \n",
    "    def altaz(self,ra,dec,time=(month,normal_year),location=(lat,long)):\n",
    "        '''\n",
    "        parameters\n",
    "        ----------\n",
    "        param ra: right ascension of the observed object [rad]\n",
    "        \n",
    "        param dec: declination of the observed object [rad]\n",
    "        \n",
    "        param time: LST of the obser\n",
    "        \n",
    "        param location: latitude and longitude [degrees]\n",
    "        \n",
    "        return\n",
    "        ----------\n",
    "        (altitude,azimuth)\n",
    "        \n",
    "        '''\n",
    "        #Get LST\n",
    "        lst = 100.46 + 0.985647 + d +long + 15 * UT\n",
    "        #Convert the local sidereal time to the hour angle:\n",
    "        \n",
    "        \n",
    "    \n",
    "    def flux():\n",
    "        pass\n",
    "    \n",
    "    def phase():\n",
    "        pass"
   ]
  },
  {
   "cell_type": "code",
   "execution_count": null,
   "metadata": {},
   "outputs": [],
   "source": [
    "class Ant():\n",
    "    def beam():\n",
    "        pass\n",
    "    \n",
    "    def phase():\n",
    "        pass"
   ]
  }
 ],
 "metadata": {
  "kernelspec": {
   "display_name": "Python 3",
   "language": "python",
   "name": "python3"
  },
  "language_info": {
   "codemirror_mode": {
    "name": "ipython",
    "version": 3
   },
   "file_extension": ".py",
   "mimetype": "text/x-python",
   "name": "python",
   "nbconvert_exporter": "python",
   "pygments_lexer": "ipython3",
   "version": "3.7.6"
  }
 },
 "nbformat": 4,
 "nbformat_minor": 4
}
