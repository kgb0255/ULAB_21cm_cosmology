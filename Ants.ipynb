{
 "cells": [
  {
   "cell_type": "code",
   "execution_count": null,
   "metadata": {},
   "outputs": [],
   "source": [
    "class Ants():\n",
    "    def __intit__(self, ):\n",
    "        "
   ]
  },
  {
   "cell_type": "code",
   "execution_count": null,
   "metadata": {},
   "outputs": [],
   "source": [
    "def airy(x,y, nu, a=6, sigma_ant=0,  sigma_x=0, sigma_y=0):\n",
    "    \n",
    "    \"\"\"Airy beam takes in an aperature, altitude, and frequency and gets the airy function\n",
    "    alt=np.linspace(0, np.pi, 100)\n",
    "    nu=np.linspace(140, 160,50)*10**6   these two are the alt and nu inputs I used.\n",
    "\"\"\"\n",
    "    ax = np.random.normal(6,sigma_ant)\n",
    "    ay = np.random.normal(6,sigma_ant)\n",
    "    xs = np.random.normal(0,sigma_x)\n",
    "    ys = np.random.normal(0,sigma_y)\n",
    "    \n",
    "    #a is the aperature of the dish which is 6 meters\n",
    "    c=3.0*10**8 #speed of light in m/s\n",
    "    k=2*np.pi*nu/c #wavenumber\n",
    "    print(k.shape)\n",
    "   # kasintheta = np.einsum('i,j->ij',k,a*np.sin(np.pi/2-alt)) \n",
    "    #airy_funct = (2*sci.jv(1,kasintheta)/(kasintheta))**2 #Sci.jv are the bessel functions of the 1st kind, 1st order\n",
    "    \n",
    "    \n",
    "    kasintheta = np.einsum('i,j->ij',k,a*np.sin(np.pi/2-alt)) \n",
    "    \n",
    "    kshape=np.einsum(\"i,k->ik\",k,(ax**2*(x-xs)**2+ay**2*(y-ys)**2))\n",
    "    airy_funct = (2*sci.jv(1,kshape)**0.5/(kshape)**0.5)**2 #Sci.jv are the bessel functions of the 1st kind\n",
    "    \n",
    "    return airy_funct"
   ]
  },
  {
   "cell_type": "code",
   "execution_count": null,
   "metadata": {},
   "outputs": [],
   "source": []
  }
 ],
 "metadata": {
  "kernelspec": {
   "display_name": "Python 3",
   "language": "python",
   "name": "python3"
  },
  "language_info": {
   "codemirror_mode": {
    "name": "ipython",
    "version": 3
   },
   "file_extension": ".py",
   "mimetype": "text/x-python",
   "name": "python",
   "nbconvert_exporter": "python",
   "pygments_lexer": "ipython3",
   "version": "3.7.4"
  }
 },
 "nbformat": 4,
 "nbformat_minor": 2
}
