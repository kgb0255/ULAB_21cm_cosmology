{
 "cells": [
  {
   "cell_type": "code",
   "execution_count": null,
   "metadata": {},
   "outputs": [],
   "source": [
    "import Catalog.py\n",
    "import Ants.py\n",
    "import numpy as np"
   ]
  },
  {
   "cell_type": "code",
   "execution_count": null,
   "metadata": {},
   "outputs": [],
   "source": [
    "###build the ants positon\n",
    "def hex_array(hex_num, sep=14.6, split_core=True):\n",
    "        '''\n",
    "        ### NOT MY CODE (Couldn’t install the dependency)###\n",
    "        Build a hexagonal array configuration, nominally matching HERA’s ideal configuration.\n",
    "        Args:\n",
    "            hex_num (int): the hexagon (radial) number of the core configuration.\n",
    "                Number of core antennas returned is 3N^2 - 3N + 1.\n",
    "            sep (float): the separation between hexagonal grid points (meters).\n",
    "            split_core (bool): fractures the hexagonal core into tridrents that subdivide\n",
    "                a hexagonal grid. Loses N antennas, so the number of core antennas returned\n",
    "                is 3N^2 - 4N + 1.\n",
    "        Returns:\n",
    "            dict: a dictionary of antenna numbers and positions.\n",
    "                Positions are x,y,z in topocentric coordinates, in meters.\n",
    "        Source:\n",
    "            https://github.com/HERA-Team/hera_sim/blob/master/hera_sim/antpos.py\n",
    "        '''\n",
    "        # Main Hex\n",
    "        positions = []\n",
    "        for row in range(hex_num - 1, -hex_num + split_core, -1):  # the + split_core deletes a row\n",
    "            for col in range(0, 2 * hex_num - abs(row) - 1):\n",
    "                x_pos = sep * ((-(2 * hex_num - abs(row)) + 2) / 2.0 + col)\n",
    "                y_pos = row * sep * 3 ** 0.5 / 2\n",
    "                positions.append([x_pos, y_pos, 0])\n",
    "        # unit vectors\n",
    "        up_right = sep * np.asarray([0.5, 3 ** 0.5 / 2, 0])\n",
    "        up_left = sep * np.asarray([-0.5, 3 ** 0.5 / 2, 0])\n",
    "        # Split the core into 3 pieces\n",
    "        if split_core:\n",
    "            new_pos = []\n",
    "            for i, pos in enumerate(positions):\n",
    "                theta = np.arctan2(pos[1], pos[0])\n",
    "                if pos[0] == 0 and pos[1] == 0:\n",
    "                    new_pos.append(pos)\n",
    "                elif -np.pi / 3 < theta < np.pi / 3:\n",
    "                    new_pos.append(np.asarray(pos) + (up_right + up_left) / 3)\n",
    "                elif np.pi / 3 <= theta < np.pi:\n",
    "                    new_pos.append(np.asarray(pos) + up_left - (up_right + up_left) / 3)\n",
    "                else:\n",
    "                    new_pos.append(pos)\n",
    "            positions = new_pos\n",
    "        return {i: pos for i, pos in enumerate(np.array(positions))}"
   ]
  }
 ],
 "metadata": {
  "kernelspec": {
   "display_name": "Python 3",
   "language": "python",
   "name": "python3"
  },
  "language_info": {
   "codemirror_mode": {
    "name": "ipython",
    "version": 3
   },
   "file_extension": ".py",
   "mimetype": "text/x-python",
   "name": "python",
   "nbconvert_exporter": "python",
   "pygments_lexer": "ipython3",
   "version": "3.7.4"
  }
 },
 "nbformat": 4,
 "nbformat_minor": 2
}
