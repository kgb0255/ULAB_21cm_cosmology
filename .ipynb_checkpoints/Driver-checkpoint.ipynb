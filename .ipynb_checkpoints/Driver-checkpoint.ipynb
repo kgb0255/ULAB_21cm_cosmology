{
 "cells": [
  {
   "cell_type": "code",
   "execution_count": null,
   "metadata": {},
   "outputs": [],
   "source": [
    "import Catalog\n",
    "import Baseline"
   ]
  },
  {
   "cell_type": "code",
   "execution_count": null,
   "metadata": {},
   "outputs": [],
   "source": [
    "#import data\n",
    "from astropy.io import fits\n",
    "#put our own path here\n",
    "path = \"/Users/shiangyilin/21cmCosmology/cosmology/GLEAM_EGC_v2.fits\"\n",
    "hdul = fits.open(path)\n",
    "df = pd.DataFrame(hdul[1].data)"
   ]
  },
  {
   "cell_type": "code",
   "execution_count": null,
   "metadata": {},
   "outputs": [],
   "source": [
    "data = Catalog(df, 100, np.linspace(0,np.pi, 100))\n",
    "ants = Ants(###parameter)\n",
    "base = #### get base line vector Baseline class\n",
    "phase = data.getPhase(base)\n",
    "flux = data.getFluxAtFreq(151) ###using 151 for testing\n",
    "beam = Ants.getBeam(\"ariy\")"
   ]
  },
  {
   "cell_type": "code",
   "execution_count": null,
   "metadata": {},
   "outputs": [],
   "source": [
    "def run():\n",
    "    return np.einsum(beam, bp.einsum(flux, phase))\n",
    "    "
   ]
  }
 ],
 "metadata": {
  "kernelspec": {
   "display_name": "Python 3",
   "language": "python",
   "name": "python3"
  },
  "language_info": {
   "codemirror_mode": {
    "name": "ipython",
    "version": 3
   },
   "file_extension": ".py",
   "mimetype": "text/x-python",
   "name": "python",
   "nbconvert_exporter": "python",
   "pygments_lexer": "ipython3",
   "version": "3.7.4"
  }
 },
 "nbformat": 4,
 "nbformat_minor": 2
}
