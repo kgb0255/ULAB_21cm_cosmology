{
 "cells": [
  {
   "cell_type": "code",
   "execution_count": null,
   "metadata": {},
   "outputs": [],
   "source": [
    "import Catalog.py\n",
    "import Ants.py\n",
    "import numpy as np"
   ]
  },
  {
   "cell_type": "code",
   "execution_count": 2,
   "metadata": {},
   "outputs": [],
   "source": [
    "###build the ants positon\n",
    "def hex_array(hex_num, sep=14.6, split_core=True):\n",
    "        '''\n",
    "        ### NOT MY CODE (Couldn’t install the dependency)###\n",
    "        Build a hexagonal array configuration, nominally matching HERA’s ideal configuration.\n",
    "        Args:\n",
    "            hex_num (int): the hexagon (radial) number of the core configuration.\n",
    "                Number of core antennas returned is 3N^2 - 3N + 1.\n",
    "            sep (float): the separation between hexagonal grid points (meters).\n",
    "            split_core (bool): fractures the hexagonal core into tridrents that subdivide\n",
    "                a hexagonal grid. Loses N antennas, so the number of core antennas returned\n",
    "                is 3N^2 - 4N + 1.\n",
    "        Returns:\n",
    "            dict: a dictionary of antenna numbers and positions.\n",
    "                Positions are x,y,z in topocentric coordinates, in meters.\n",
    "        Source:\n",
    "            https://github.com/HERA-Team/hera_sim/blob/master/hera_sim/antpos.py\n",
    "        '''\n",
    "        # Main Hex\n",
    "        positions = []\n",
    "        for row in range(hex_num - 1, -hex_num + split_core, -1):  # the + split_core deletes a row\n",
    "            for col in range(0, 2 * hex_num - abs(row) - 1):\n",
    "                x_pos = sep * ((-(2 * hex_num - abs(row)) + 2) / 2.0 + col)\n",
    "                y_pos = row * sep * 3 ** 0.5 / 2\n",
    "                positions.append([x_pos, y_pos, 0])\n",
    "        # unit vectors\n",
    "        up_right = sep * np.asarray([0.5, 3 ** 0.5 / 2, 0])\n",
    "        up_left = sep * np.asarray([-0.5, 3 ** 0.5 / 2, 0])\n",
    "        # Split the core into 3 pieces\n",
    "        if split_core:\n",
    "            new_pos = []\n",
    "            for i, pos in enumerate(positions):\n",
    "                theta = np.arctan2(pos[1], pos[0])\n",
    "                if pos[0] == 0 and pos[1] == 0:\n",
    "                    new_pos.append(pos)\n",
    "                elif -np.pi / 3 < theta < np.pi / 3:\n",
    "                    new_pos.append(np.asarray(pos) + (up_right + up_left) / 3)\n",
    "                elif np.pi / 3 <= theta < np.pi:\n",
    "                    new_pos.append(np.asarray(pos) + up_left - (up_right + up_left) / 3)\n",
    "                else:\n",
    "                    new_pos.append(pos)\n",
    "            positions = new_pos\n",
    "        return {i: pos for i, pos in enumerate(np.array(positions))}"
   ]
  },
  {
   "cell_type": "code",
   "execution_count": 3,
   "metadata": {},
   "outputs": [
    {
     "ename": "NameError",
     "evalue": "name 'np' is not defined",
     "output_type": "error",
     "traceback": [
      "\u001b[0;31m---------------------------------------------------------------------------\u001b[0m",
      "\u001b[0;31mNameError\u001b[0m                                 Traceback (most recent call last)",
      "\u001b[0;32m<ipython-input-3-73f89ecf1ccf>\u001b[0m in \u001b[0;36m<module>\u001b[0;34m\u001b[0m\n\u001b[0;32m----> 1\u001b[0;31m \u001b[0ma_temp\u001b[0m \u001b[0;34m=\u001b[0m \u001b[0mhex_array\u001b[0m\u001b[0;34m(\u001b[0m\u001b[0;36m4\u001b[0m\u001b[0;34m)\u001b[0m\u001b[0;34m\u001b[0m\u001b[0;34m\u001b[0m\u001b[0m\n\u001b[0m\u001b[1;32m      2\u001b[0m \u001b[0mants\u001b[0m \u001b[0;34m=\u001b[0m \u001b[0;34m[\u001b[0m\u001b[0;34m]\u001b[0m\u001b[0;34m\u001b[0m\u001b[0;34m\u001b[0m\u001b[0m\n\u001b[1;32m      3\u001b[0m \u001b[0;32mfor\u001b[0m \u001b[0mant_num\u001b[0m\u001b[0;34m,\u001b[0m \u001b[0mpos\u001b[0m \u001b[0;32min\u001b[0m \u001b[0ma_temp\u001b[0m\u001b[0;34m.\u001b[0m\u001b[0mitems\u001b[0m\u001b[0;34m(\u001b[0m\u001b[0;34m)\u001b[0m\u001b[0;34m:\u001b[0m\u001b[0;34m\u001b[0m\u001b[0;34m\u001b[0m\u001b[0m\n\u001b[1;32m      4\u001b[0m     \u001b[0mants\u001b[0m\u001b[0;34m[\u001b[0m\u001b[0mant_num\u001b[0m\u001b[0;34m]\u001b[0m \u001b[0;34m=\u001b[0m \u001b[0mAnt\u001b[0m\u001b[0;34m(\u001b[0m\u001b[0mant_num\u001b[0m\u001b[0;34m,\u001b[0m \u001b[0mpos\u001b[0m\u001b[0;34m)\u001b[0m\u001b[0;34m\u001b[0m\u001b[0;34m\u001b[0m\u001b[0m\n\u001b[1;32m      5\u001b[0m \u001b[0mbeams\u001b[0m \u001b[0;34m=\u001b[0m \u001b[0;34m[\u001b[0m\u001b[0;34m]\u001b[0m\u001b[0;34m\u001b[0m\u001b[0;34m\u001b[0m\u001b[0m\n",
      "\u001b[0;32m<ipython-input-2-ce1f43091c42>\u001b[0m in \u001b[0;36mhex_array\u001b[0;34m(hex_num, sep, split_core)\u001b[0m\n\u001b[1;32m     25\u001b[0m                 \u001b[0mpositions\u001b[0m\u001b[0;34m.\u001b[0m\u001b[0mappend\u001b[0m\u001b[0;34m(\u001b[0m\u001b[0;34m[\u001b[0m\u001b[0mx_pos\u001b[0m\u001b[0;34m,\u001b[0m \u001b[0my_pos\u001b[0m\u001b[0;34m,\u001b[0m \u001b[0;36m0\u001b[0m\u001b[0;34m]\u001b[0m\u001b[0;34m)\u001b[0m\u001b[0;34m\u001b[0m\u001b[0;34m\u001b[0m\u001b[0m\n\u001b[1;32m     26\u001b[0m         \u001b[0;31m# unit vectors\u001b[0m\u001b[0;34m\u001b[0m\u001b[0;34m\u001b[0m\u001b[0;34m\u001b[0m\u001b[0m\n\u001b[0;32m---> 27\u001b[0;31m         \u001b[0mup_right\u001b[0m \u001b[0;34m=\u001b[0m \u001b[0msep\u001b[0m \u001b[0;34m*\u001b[0m \u001b[0mnp\u001b[0m\u001b[0;34m.\u001b[0m\u001b[0masarray\u001b[0m\u001b[0;34m(\u001b[0m\u001b[0;34m[\u001b[0m\u001b[0;36m0.5\u001b[0m\u001b[0;34m,\u001b[0m \u001b[0;36m3\u001b[0m \u001b[0;34m**\u001b[0m \u001b[0;36m0.5\u001b[0m \u001b[0;34m/\u001b[0m \u001b[0;36m2\u001b[0m\u001b[0;34m,\u001b[0m \u001b[0;36m0\u001b[0m\u001b[0;34m]\u001b[0m\u001b[0;34m)\u001b[0m\u001b[0;34m\u001b[0m\u001b[0;34m\u001b[0m\u001b[0m\n\u001b[0m\u001b[1;32m     28\u001b[0m         \u001b[0mup_left\u001b[0m \u001b[0;34m=\u001b[0m \u001b[0msep\u001b[0m \u001b[0;34m*\u001b[0m \u001b[0mnp\u001b[0m\u001b[0;34m.\u001b[0m\u001b[0masarray\u001b[0m\u001b[0;34m(\u001b[0m\u001b[0;34m[\u001b[0m\u001b[0;34m-\u001b[0m\u001b[0;36m0.5\u001b[0m\u001b[0;34m,\u001b[0m \u001b[0;36m3\u001b[0m \u001b[0;34m**\u001b[0m \u001b[0;36m0.5\u001b[0m \u001b[0;34m/\u001b[0m \u001b[0;36m2\u001b[0m\u001b[0;34m,\u001b[0m \u001b[0;36m0\u001b[0m\u001b[0;34m]\u001b[0m\u001b[0;34m)\u001b[0m\u001b[0;34m\u001b[0m\u001b[0;34m\u001b[0m\u001b[0m\n\u001b[1;32m     29\u001b[0m         \u001b[0;31m# Split the core into 3 pieces\u001b[0m\u001b[0;34m\u001b[0m\u001b[0;34m\u001b[0m\u001b[0;34m\u001b[0m\u001b[0m\n",
      "\u001b[0;31mNameError\u001b[0m: name 'np' is not defined"
     ]
    }
   ],
   "source": [
    "###buidling ants\n",
    "a_temp = hex_array(4)\n",
    "ants = []\n",
    "for ant_num, pos in a_temp.items():\n",
    "    ants[ant_num] = Ant(ant_num, pos)\n",
    "beams = []\n",
    "bls = []\n",
    "for i in ants:\n",
    "    for j in ants:\n",
    "        beams.append(np.sqrt(ants[j].get_beam*ants[i].get_beam))\n",
    "        bls.append([ant[i].pos[0]-ant[j].pos[0], ant[i].pos[1]-ant[j].pos[1]])"
   ]
  },
  {
   "cell_type": "code",
   "execution_count": null,
   "metadata": {},
   "outputs": [],
   "source": [
    "###building Catalog\n",
    "from astropy.io import fits\n",
    "path = \"/Users/shiangyilin/21cmCosmology/cosmology/GLEAM_EGC_v2.fits\" #put our own path here\n",
    "hdul = fits.open(path)\n",
    "df = pd.DataFrame(hdul[1].data)\n",
    "\n",
    "data = Catalog(df, 100, np.linspace(0,np.pi, 100))\n",
    "pos = data.s_vectors\n",
    "x = [source[0] for source in pos]\n",
    "y = [source[1] for source in pos]\n",
    "flux = data.getFluxAtFreq(151) ###using 151 for testing\n",
    "phase = data.getPhase()"
   ]
  },
  {
   "cell_type": "code",
   "execution_count": null,
   "metadata": {},
   "outputs": [],
   "source": [
    "def visibility(beam, bls, catalog):\n",
    "    catalog.get_phase(bl)\n",
    "    return catalog.flux*c"
   ]
  },
  {
   "cell_type": "code",
   "execution_count": null,
   "metadata": {},
   "outputs": [],
   "source": [
    "ants = Ants( )\n",
    "base = Ants.getBase()\n",
    "phase = data.getPhase(base)\n",
    "beam = Ants.getBeam(\"ariy\")"
   ]
  }
 ],
 "metadata": {
  "kernelspec": {
   "display_name": "Python 3",
   "language": "python",
   "name": "python3"
  },
  "language_info": {
   "codemirror_mode": {
    "name": "ipython",
    "version": 3
   },
   "file_extension": ".py",
   "mimetype": "text/x-python",
   "name": "python",
   "nbconvert_exporter": "python",
   "pygments_lexer": "ipython3",
   "version": "3.7.4"
  }
 },
 "nbformat": 4,
 "nbformat_minor": 2
}
