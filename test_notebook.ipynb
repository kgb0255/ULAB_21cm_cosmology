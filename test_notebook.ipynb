{
 "cells": [
  {
   "cell_type": "code",
   "execution_count": 13,
   "metadata": {},
   "outputs": [],
   "source": [
    "import numpy as np\n",
    "import matplotlib.pyplot as plt\n",
    "from astropy.io import fits\n",
    "import healpy as hp\n",
    "import pandas as pd\n",
    "\n",
    "import classes as cs"
   ]
  },
  {
   "cell_type": "code",
   "execution_count": 9,
   "metadata": {},
   "outputs": [],
   "source": [
    "hdul = fits.open(\"/Users/DanielBautista/21 cm Cosmology/GLEAM_EGC_v2.fits\")\n",
    "frame = pd.DataFrame(hdul[1].data)\n",
    "\n",
    "t = cs.Catalog(frame)"
   ]
  },
  {
   "cell_type": "code",
   "execution_count": 14,
   "metadata": {},
   "outputs": [
    {
     "name": "stdout",
     "output_type": "stream",
     "text": [
      "Here are the valid frequencies:\n",
      "Index(['RAJ2000', 'DEJ2000', 'int_flux_wide', 'int_flux_076', 'int_flux_084',\n",
      "       'int_flux_092', 'int_flux_099', 'int_flux_107', 'int_flux_115',\n",
      "       'int_flux_122', 'int_flux_130', 'int_flux_143', 'int_flux_151',\n",
      "       'int_flux_158', 'int_flux_166', 'int_flux_174', 'int_flux_181',\n",
      "       'int_flux_189', 'int_flux_197', 'int_flux_204', 'int_flux_212',\n",
      "       'int_flux_220', 'int_flux_227', 'int_flux_fit_200'],\n",
      "      dtype='object')\n"
     ]
    }
   ],
   "source": [
    "flux = t.flux(\"int_flux_150\",30) #total = 3072\n",
    "\n",
    "#flux = t.frame.int_flux_151 #total = 307455"
   ]
  },
  {
   "cell_type": "code",
   "execution_count": 5,
   "metadata": {},
   "outputs": [
    {
     "name": "stdout",
     "output_type": "stream",
     "text": [
      "[ 29.58505   27.660542  30.85877   30.7459    31.354462  30.970642\n",
      "  35.543907  39.799976  30.435545  37.34214   35.114895  43.287964\n",
      "  37.273304  43.953564  46.86385   37.22556   55.47063   55.856373\n",
      "  55.279373  55.942432  68.22901   45.92773   60.972664  69.84408\n",
      "  76.317024  54.77183   90.570274 100.00658  223.94603  232.34416 ]\n",
      "<class 'numpy.ndarray'>\n"
     ]
    }
   ],
   "source": [
    "print(flux)\n",
    "print(type(flux))"
   ]
  },
  {
   "cell_type": "code",
   "execution_count": null,
   "metadata": {},
   "outputs": [],
   "source": []
  }
 ],
 "metadata": {
  "kernelspec": {
   "display_name": "Python 3",
   "language": "python",
   "name": "python3"
  },
  "language_info": {
   "codemirror_mode": {
    "name": "ipython",
    "version": 3
   },
   "file_extension": ".py",
   "mimetype": "text/x-python",
   "name": "python",
   "nbconvert_exporter": "python",
   "pygments_lexer": "ipython3",
   "version": "3.7.5"
  }
 },
 "nbformat": 4,
 "nbformat_minor": 2
}
