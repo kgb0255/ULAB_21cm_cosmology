{
 "cells": [
  {
   "cell_type": "code",
   "execution_count": 5,
   "metadata": {},
   "outputs": [],
   "source": [
    "#import library\n",
    "import numpy as np\n",
    "import matplotlib.pyplot as plt\n",
    "import pandas as pd\n",
    "import scipy as sp\n",
    "import astropy\n",
    "import healpy as hp\n",
    "import scipy.constants as spc\n",
    "import time\n",
    "import math"
   ]
  },
  {
   "cell_type": "code",
   "execution_count": 6,
   "metadata": {},
   "outputs": [
    {
     "data": {
      "text/plain": [
       "0         0.528997\n",
       "1        -0.032702\n",
       "2         0.463359\n",
       "3         2.686571\n",
       "4         0.393777\n",
       "            ...   \n",
       "307450    0.797789\n",
       "307451    0.719054\n",
       "307452    0.314990\n",
       "307453    1.189469\n",
       "307454   -2.056702\n",
       "Name: int_flux_076, Length: 307455, dtype: float32"
      ]
     },
     "execution_count": 6,
     "metadata": {},
     "output_type": "execute_result"
    }
   ],
   "source": [
    "#import data\n",
    "from astropy.io import fits\n",
    "#put our own path here\n",
    "path = \"/Users/shiangyilin/21cmCosmology/cosmology/GLEAM_EGC_v2.fits\"\n",
    "hdul = fits.open(path)\n",
    "df = pd.DataFrame(hdul[1].data)\n",
    "df['int_flux_076']"
   ]
  },
  {
   "cell_type": "code",
   "execution_count": 14,
   "metadata": {},
   "outputs": [],
   "source": [
    "class Catalog():\n",
    "    \n",
    "    def __init__(self, df):\n",
    "        \"\"\"\n",
    "        modified from James's code\n",
    "        Initializes the Catalog and makes a new Pandas DataFrame containing the Right Ascension and Declination as well as all the fluxes\n",
    "        \n",
    "        Parameters:\n",
    "        frame = Pandas DataFrame\n",
    "        Creates: \n",
    "        self.frame as Pandas DataFrame type\n",
    "        self.RA = right ascencion from J2000 in degrees as numpy.ndarray\n",
    "        self.DEC = declination from J2000 in degrees as numpy.ndarray\n",
    "        \"\"\"\n",
    "        df.dropna(axis = 1, how = \"any\")\n",
    "        df.sort_values(by = \"int_flux_wide\")\n",
    "        self.frame = df[[col for col in df.keys() if ((col=='RAJ2000' or col=='DEJ2000'or col[:9]=='int_flux_') \n",
    "                                                      and col!= 'int_flux_fit_200')]]\n",
    "        self.RA = np.asarray(self.frame.RAJ2000)\n",
    "        self.DEC = np.asarray(self.frame.DEJ2000)\n",
    "        self.freqMHz = [col[10:] for col in df.keys() if (col[:9]=='int_flux_' and col != 'int_flux_wide')]\n",
    "        all_time = np.linspace(0, 2*np.pi, 768)\n",
    "        self.ALTAZ = [data.altaz(t) for t in all_time]\n",
    "    \n",
    "    \n",
    "    def altaz(self, time, rad = False, lat = 37.875*np.pi/180):\n",
    "        \"\"\"\n",
    "        from Max\n",
    "        Calculates Altitude and Azimuth at given times, centered at HERA\n",
    "        parameters: \n",
    "        time = lst in radian\n",
    "        ra = Right ascension of the star in degrees or radians\n",
    "        dec = Declination of the star in degrees or radians\n",
    "        rad = True if RA and DEC are in radian or False if RA and DEC are in degree\n",
    "        returns:\n",
    "        Returns alt, and az all in radian\n",
    "        \"\"\"\n",
    "        ra = self.RA\n",
    "        dec = self.DEC\n",
    "        PI = np.pi\n",
    "        #Setting the latitude/longitude of HERA\n",
    "        if rad == False:\n",
    "            ra =ra * PI/180\n",
    "            dec =dec * PI/180\n",
    "        \n",
    "        #Converts the LST to hour angle\n",
    "        hour_array = np.mod((time - ra), 2*PI)\n",
    "    \n",
    "        #Calculates the Altitude and Azimuth\n",
    "        alt = np.arcsin(np.sin(dec)*np.sin(lat)\n",
    "                        + np.cos(dec)*np.cos(lat)*np.cos(hour_array))\n",
    "        az = np.arctan2(np.sin(hour_array)*np.cos(dec),\n",
    "                        np.cos(hour_array)*np.cos(dec)*np.sin(lat) - np.sin(dec)*np.cos(lat)) + PI\n",
    "        return [alt, az]\n",
    "    \n",
    "    def flux(self, freq, n):\n",
    "        \"\"\"return an array of N largest flux sample of frequency FREQ\"\"\"\n",
    "        var = \"int_flux_\"\n",
    "        if freq<100:\n",
    "            var = var + '0' + str(freq)\n",
    "        else:\n",
    "            var = var + str(freq)\n",
    "        print(var)\n",
    "        return np.asarray(self.frame[var][:n])"
   ]
  },
  {
   "cell_type": "code",
   "execution_count": 15,
   "metadata": {},
   "outputs": [
    {
     "name": "stdout",
     "output_type": "stream",
     "text": [
      "int_flux_076\n"
     ]
    },
    {
     "data": {
      "text/plain": [
       "array([ 5.28996706e-01, -3.27020250e-02,  4.63359177e-01,  2.68657088e+00,\n",
       "        3.93777370e-01,  2.15022251e-01,  9.45673063e-02,  3.04107189e-01,\n",
       "        5.49276769e-01,  1.07047462e+00,  1.15294075e+00, -4.23851330e-03,\n",
       "        8.62744749e-01,  2.04475626e-01, -8.03497657e-02,  1.90049684e+00,\n",
       "        7.75041699e-01,  4.59374607e-01,  1.30233908e+00,  2.56895304e-01,\n",
       "        3.67582023e-01, -1.19067766e-01,  3.80852610e-01,  4.17544007e-01,\n",
       "        3.92687976e-01,  8.23621929e-01,  5.43193340e-01,  4.19970065e-01,\n",
       "        1.19083703e+00,  2.28969991e-01,  4.04462636e-01, -1.26657978e-01,\n",
       "        3.23860943e-01,  8.55139971e-01,  2.90062398e-01, -1.94469169e-01,\n",
       "        5.18783271e-01,  3.14791232e-01, -4.49459702e-01,  1.12397122e+00,\n",
       "       -1.28161745e+01,  4.58816826e-01, -3.05185974e-01, -4.86488491e-02,\n",
       "        1.20394453e-01,  7.02301800e-01,  4.37640309e-01,  4.15691406e-01,\n",
       "        3.81086320e-01,  9.34650958e-01,  1.06278265e+00,  1.48010030e-01,\n",
       "        9.48855460e-01,  8.36045504e-01,  8.97211015e-01,  1.51602387e-01,\n",
       "        6.88551545e-01,  4.05447572e-01,  1.54836798e+00,  3.00543606e-01,\n",
       "        3.53255361e-01,  8.41273740e-02,  1.69784117e+00,  2.37640202e-01,\n",
       "        3.27828974e-01,  1.54088283e+00,  6.54051304e-02,  2.25268722e-01,\n",
       "        9.14670452e-02,  3.33978504e-01,  2.44366884e-01,  2.00762942e-01,\n",
       "       -2.88846064e-02,  4.73560728e-02,  3.63838911e-01,  1.26344934e-01,\n",
       "        1.11300397e+00,  2.00619489e-01,  1.35811329e+00,  1.44482088e+00,\n",
       "        1.79610002e+00,  1.29941165e-01,  1.12842071e+00,  1.22095168e+00,\n",
       "        4.36792088e+00,  3.09504300e-01,  4.92859781e-01,  1.15191989e-01,\n",
       "        2.13289753e-01,  1.41398275e+00,  1.10956407e+00,  2.40133360e-01,\n",
       "        3.20632547e-01,  3.58823806e-01,  2.09902406e-01,  7.86312521e-01,\n",
       "        3.22230339e+00,  2.03850660e-02,  4.09025097e+00,  4.20619637e-01],\n",
       "      dtype=float32)"
      ]
     },
     "execution_count": 15,
     "metadata": {},
     "output_type": "execute_result"
    }
   ],
   "source": [
    "data = Catalog(df)\n",
    "data.frame.head()\n",
    "data.flux(76, 100)"
   ]
  },
  {
   "cell_type": "code",
   "execution_count": 13,
   "metadata": {},
   "outputs": [
    {
     "name": "stdout",
     "output_type": "stream",
     "text": [
      "<class 'numpy.float64'>\n"
     ]
    },
    {
     "data": {
      "text/plain": [
       "[array([-0.6555896 , -0.64827305, -0.64660996, ..., -0.17699069,\n",
       "        -0.5503683 , -1.223605  ], dtype=float32),\n",
       " array([3.1418433 , 3.1479514 , 3.1453042 , ..., 0.99152446, 0.4543898 ,\n",
       "        4.782216  ], dtype=float32)]"
      ]
     },
     "execution_count": 13,
     "metadata": {},
     "output_type": "execute_result"
    }
   ],
   "source": [
    "all_time = np.linspace(0, 2*np.pi, 768)\n",
    "data.altaz(all_time[0])"
   ]
  },
  {
   "cell_type": "code",
   "execution_count": null,
   "metadata": {},
   "outputs": [],
   "source": []
  },
  {
   "cell_type": "code",
   "execution_count": 25,
   "metadata": {},
   "outputs": [
    {
     "ename": "SyntaxError",
     "evalue": "invalid syntax (<ipython-input-25-6e07def041ea>, line 21)",
     "output_type": "error",
     "traceback": [
      "\u001b[0;36m  File \u001b[0;32m\"<ipython-input-25-6e07def041ea>\"\u001b[0;36m, line \u001b[0;32m21\u001b[0m\n\u001b[0;31m    k =\u001b[0m\n\u001b[0m        ^\u001b[0m\n\u001b[0;31mSyntaxError\u001b[0m\u001b[0;31m:\u001b[0m invalid syntax\n"
     ]
    }
   ],
   "source": [
    "class Antenna():\n",
    "    nside= 32 \n",
    "    npix = hp.nside2npix(nside)\n",
    "    mean = 0\n",
    "    std = 1\n",
    "    def beam(model):\n",
    "        if (model == 'one'):\n",
    "            return 1\n",
    "        \n",
    "        elif (model == 'gaussian'):\n",
    "            def getGaussian(length, mean, std):\n",
    "                x = np.arange(0,length)\n",
    "                function = (1/(std*(2*np.pi)**.5))*np.exp(-.5*((x-mean)/std)**2)\n",
    "                return function\n",
    "            return getGaussian(npix, mean, std)\n",
    "\n",
    "        elif (model == \"airy\"):\n",
    "            def getAiry(freq, co-altitude, aperture):\n",
    "                a = aperture\n",
    "                theta = co-altitude\n",
    "                j1 = lambda x :\n",
    "                k = 2 * math.pi * freq /c\n",
    "                k_a_sin = k * a * math.sin(theta)\n",
    "                return (2 * J1(k_a_sin) / (k_a_sin))**2\n",
    "            \n",
    "            \n",
    "            \n",
    "    def phase(b, s):\n",
    "        assert b.lenght == s.length"
   ]
  },
  {
   "cell_type": "code",
   "execution_count": 11,
   "metadata": {},
   "outputs": [
    {
     "ename": "SyntaxError",
     "evalue": "invalid syntax (<ipython-input-11-94fbaabcbb59>, line 1)",
     "output_type": "error",
     "traceback": [
      "\u001b[0;36m  File \u001b[0;32m\"<ipython-input-11-94fbaabcbb59>\"\u001b[0;36m, line \u001b[0;32m1\u001b[0m\n\u001b[0;31m    df = new Catalog(df)\u001b[0m\n\u001b[0m                   ^\u001b[0m\n\u001b[0;31mSyntaxError\u001b[0m\u001b[0;31m:\u001b[0m invalid syntax\n"
     ]
    }
   ],
   "source": []
  },
  {
   "cell_type": "code",
   "execution_count": null,
   "metadata": {},
   "outputs": [],
   "source": []
  }
 ],
 "metadata": {
  "kernelspec": {
   "display_name": "Python 3",
   "language": "python",
   "name": "python3"
  },
  "language_info": {
   "codemirror_mode": {
    "name": "ipython",
    "version": 3
   },
   "file_extension": ".py",
   "mimetype": "text/x-python",
   "name": "python",
   "nbconvert_exporter": "python",
   "pygments_lexer": "ipython3",
   "version": "3.7.4"
  }
 },
 "nbformat": 4,
 "nbformat_minor": 2
}
